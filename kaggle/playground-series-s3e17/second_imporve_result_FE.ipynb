{
 "cells": [
  {
   "cell_type": "code",
   "execution_count": 1,
   "id": "c621ccbd",
   "metadata": {},
   "outputs": [],
   "source": [
    "import matplotlib.pyplot as plt\n",
    "import numpy as np\n",
    "import pandas as pd\n",
    "import seaborn as sns\n",
    "from sklearn.ensemble import RandomForestClassifier\n",
    "from sklearn.metrics import accuracy_score, confusion_matrix, roc_auc_score\n",
    "from sklearn.model_selection import GridSearchCV\n",
    "from xgboost import XGBClassifier\n",
    "from sklearn.model_selection import GridSearchCV\n",
    "from sklearn.model_selection import train_test_split\n",
    "\n",
    "%matplotlib inline"
   ]
  },
  {
   "cell_type": "code",
   "execution_count": 2,
   "id": "fda51129",
   "metadata": {},
   "outputs": [],
   "source": [
    "orig = pd.read_csv('./machine failure.csv', index_col = 'UDI')\n",
    "train = pd.read_csv('./train.csv', index_col='id')"
   ]
  },
  {
   "cell_type": "code",
   "execution_count": 3,
   "id": "f2122b4e",
   "metadata": {},
   "outputs": [],
   "source": [
    "orig.index.names = ['id']"
   ]
  },
  {
   "cell_type": "code",
   "execution_count": 4,
   "id": "d7c782e5",
   "metadata": {},
   "outputs": [
    {
     "data": {
      "text/html": [
       "<div>\n",
       "<style scoped>\n",
       "    .dataframe tbody tr th:only-of-type {\n",
       "        vertical-align: middle;\n",
       "    }\n",
       "\n",
       "    .dataframe tbody tr th {\n",
       "        vertical-align: top;\n",
       "    }\n",
       "\n",
       "    .dataframe thead th {\n",
       "        text-align: right;\n",
       "    }\n",
       "</style>\n",
       "<table border=\"1\" class=\"dataframe\">\n",
       "  <thead>\n",
       "    <tr style=\"text-align: right;\">\n",
       "      <th></th>\n",
       "      <th>Product ID</th>\n",
       "      <th>Type</th>\n",
       "      <th>Air temperature [K]</th>\n",
       "      <th>Process temperature [K]</th>\n",
       "      <th>Rotational speed [rpm]</th>\n",
       "      <th>Torque [Nm]</th>\n",
       "      <th>Tool wear [min]</th>\n",
       "      <th>Machine failure</th>\n",
       "      <th>TWF</th>\n",
       "      <th>HDF</th>\n",
       "      <th>PWF</th>\n",
       "      <th>OSF</th>\n",
       "      <th>RNF</th>\n",
       "    </tr>\n",
       "    <tr>\n",
       "      <th>id</th>\n",
       "      <th></th>\n",
       "      <th></th>\n",
       "      <th></th>\n",
       "      <th></th>\n",
       "      <th></th>\n",
       "      <th></th>\n",
       "      <th></th>\n",
       "      <th></th>\n",
       "      <th></th>\n",
       "      <th></th>\n",
       "      <th></th>\n",
       "      <th></th>\n",
       "      <th></th>\n",
       "    </tr>\n",
       "  </thead>\n",
       "  <tbody>\n",
       "    <tr>\n",
       "      <th>1</th>\n",
       "      <td>M14860</td>\n",
       "      <td>M</td>\n",
       "      <td>298.1</td>\n",
       "      <td>308.6</td>\n",
       "      <td>1551</td>\n",
       "      <td>42.8</td>\n",
       "      <td>0</td>\n",
       "      <td>0</td>\n",
       "      <td>0</td>\n",
       "      <td>0</td>\n",
       "      <td>0</td>\n",
       "      <td>0</td>\n",
       "      <td>0</td>\n",
       "    </tr>\n",
       "    <tr>\n",
       "      <th>2</th>\n",
       "      <td>L47181</td>\n",
       "      <td>L</td>\n",
       "      <td>298.2</td>\n",
       "      <td>308.7</td>\n",
       "      <td>1408</td>\n",
       "      <td>46.3</td>\n",
       "      <td>3</td>\n",
       "      <td>0</td>\n",
       "      <td>0</td>\n",
       "      <td>0</td>\n",
       "      <td>0</td>\n",
       "      <td>0</td>\n",
       "      <td>0</td>\n",
       "    </tr>\n",
       "    <tr>\n",
       "      <th>3</th>\n",
       "      <td>L47182</td>\n",
       "      <td>L</td>\n",
       "      <td>298.1</td>\n",
       "      <td>308.5</td>\n",
       "      <td>1498</td>\n",
       "      <td>49.4</td>\n",
       "      <td>5</td>\n",
       "      <td>0</td>\n",
       "      <td>0</td>\n",
       "      <td>0</td>\n",
       "      <td>0</td>\n",
       "      <td>0</td>\n",
       "      <td>0</td>\n",
       "    </tr>\n",
       "    <tr>\n",
       "      <th>4</th>\n",
       "      <td>L47183</td>\n",
       "      <td>L</td>\n",
       "      <td>298.2</td>\n",
       "      <td>308.6</td>\n",
       "      <td>1433</td>\n",
       "      <td>39.5</td>\n",
       "      <td>7</td>\n",
       "      <td>0</td>\n",
       "      <td>0</td>\n",
       "      <td>0</td>\n",
       "      <td>0</td>\n",
       "      <td>0</td>\n",
       "      <td>0</td>\n",
       "    </tr>\n",
       "    <tr>\n",
       "      <th>5</th>\n",
       "      <td>L47184</td>\n",
       "      <td>L</td>\n",
       "      <td>298.2</td>\n",
       "      <td>308.7</td>\n",
       "      <td>1408</td>\n",
       "      <td>40.0</td>\n",
       "      <td>9</td>\n",
       "      <td>0</td>\n",
       "      <td>0</td>\n",
       "      <td>0</td>\n",
       "      <td>0</td>\n",
       "      <td>0</td>\n",
       "      <td>0</td>\n",
       "    </tr>\n",
       "  </tbody>\n",
       "</table>\n",
       "</div>"
      ],
      "text/plain": [
       "   Product ID Type  Air temperature [K]  Process temperature [K]   \n",
       "id                                                                 \n",
       "1      M14860    M                298.1                    308.6  \\\n",
       "2      L47181    L                298.2                    308.7   \n",
       "3      L47182    L                298.1                    308.5   \n",
       "4      L47183    L                298.2                    308.6   \n",
       "5      L47184    L                298.2                    308.7   \n",
       "\n",
       "    Rotational speed [rpm]  Torque [Nm]  Tool wear [min]  Machine failure   \n",
       "id                                                                          \n",
       "1                     1551         42.8                0                0  \\\n",
       "2                     1408         46.3                3                0   \n",
       "3                     1498         49.4                5                0   \n",
       "4                     1433         39.5                7                0   \n",
       "5                     1408         40.0                9                0   \n",
       "\n",
       "    TWF  HDF  PWF  OSF  RNF  \n",
       "id                           \n",
       "1     0    0    0    0    0  \n",
       "2     0    0    0    0    0  \n",
       "3     0    0    0    0    0  \n",
       "4     0    0    0    0    0  \n",
       "5     0    0    0    0    0  "
      ]
     },
     "execution_count": 4,
     "metadata": {},
     "output_type": "execute_result"
    }
   ],
   "source": [
    "orig.head()"
   ]
  },
  {
   "cell_type": "code",
   "execution_count": null,
   "id": "e034cd49",
   "metadata": {},
   "outputs": [],
   "source": []
  },
  {
   "cell_type": "code",
   "execution_count": 5,
   "id": "990ed88d",
   "metadata": {},
   "outputs": [],
   "source": [
    "df = pd.concat([train, orig], axis = 0)"
   ]
  },
  {
   "cell_type": "code",
   "execution_count": 6,
   "id": "3c9f2838",
   "metadata": {},
   "outputs": [
    {
     "data": {
      "text/html": [
       "<div>\n",
       "<style scoped>\n",
       "    .dataframe tbody tr th:only-of-type {\n",
       "        vertical-align: middle;\n",
       "    }\n",
       "\n",
       "    .dataframe tbody tr th {\n",
       "        vertical-align: top;\n",
       "    }\n",
       "\n",
       "    .dataframe thead th {\n",
       "        text-align: right;\n",
       "    }\n",
       "</style>\n",
       "<table border=\"1\" class=\"dataframe\">\n",
       "  <thead>\n",
       "    <tr style=\"text-align: right;\">\n",
       "      <th></th>\n",
       "      <th>Product ID</th>\n",
       "      <th>Type</th>\n",
       "      <th>Air temperature [K]</th>\n",
       "      <th>Process temperature [K]</th>\n",
       "      <th>Rotational speed [rpm]</th>\n",
       "      <th>Torque [Nm]</th>\n",
       "      <th>Tool wear [min]</th>\n",
       "      <th>Machine failure</th>\n",
       "      <th>TWF</th>\n",
       "      <th>HDF</th>\n",
       "      <th>PWF</th>\n",
       "      <th>OSF</th>\n",
       "      <th>RNF</th>\n",
       "    </tr>\n",
       "    <tr>\n",
       "      <th>id</th>\n",
       "      <th></th>\n",
       "      <th></th>\n",
       "      <th></th>\n",
       "      <th></th>\n",
       "      <th></th>\n",
       "      <th></th>\n",
       "      <th></th>\n",
       "      <th></th>\n",
       "      <th></th>\n",
       "      <th></th>\n",
       "      <th></th>\n",
       "      <th></th>\n",
       "      <th></th>\n",
       "    </tr>\n",
       "  </thead>\n",
       "  <tbody>\n",
       "    <tr>\n",
       "      <th>0</th>\n",
       "      <td>L50096</td>\n",
       "      <td>L</td>\n",
       "      <td>300.6</td>\n",
       "      <td>309.6</td>\n",
       "      <td>1596</td>\n",
       "      <td>36.1</td>\n",
       "      <td>140</td>\n",
       "      <td>0</td>\n",
       "      <td>0</td>\n",
       "      <td>0</td>\n",
       "      <td>0</td>\n",
       "      <td>0</td>\n",
       "      <td>0</td>\n",
       "    </tr>\n",
       "    <tr>\n",
       "      <th>1</th>\n",
       "      <td>M20343</td>\n",
       "      <td>M</td>\n",
       "      <td>302.6</td>\n",
       "      <td>312.1</td>\n",
       "      <td>1759</td>\n",
       "      <td>29.1</td>\n",
       "      <td>200</td>\n",
       "      <td>0</td>\n",
       "      <td>0</td>\n",
       "      <td>0</td>\n",
       "      <td>0</td>\n",
       "      <td>0</td>\n",
       "      <td>0</td>\n",
       "    </tr>\n",
       "    <tr>\n",
       "      <th>2</th>\n",
       "      <td>L49454</td>\n",
       "      <td>L</td>\n",
       "      <td>299.3</td>\n",
       "      <td>308.5</td>\n",
       "      <td>1805</td>\n",
       "      <td>26.5</td>\n",
       "      <td>25</td>\n",
       "      <td>0</td>\n",
       "      <td>0</td>\n",
       "      <td>0</td>\n",
       "      <td>0</td>\n",
       "      <td>0</td>\n",
       "      <td>0</td>\n",
       "    </tr>\n",
       "    <tr>\n",
       "      <th>3</th>\n",
       "      <td>L53355</td>\n",
       "      <td>L</td>\n",
       "      <td>301.0</td>\n",
       "      <td>310.9</td>\n",
       "      <td>1524</td>\n",
       "      <td>44.3</td>\n",
       "      <td>197</td>\n",
       "      <td>0</td>\n",
       "      <td>0</td>\n",
       "      <td>0</td>\n",
       "      <td>0</td>\n",
       "      <td>0</td>\n",
       "      <td>0</td>\n",
       "    </tr>\n",
       "    <tr>\n",
       "      <th>4</th>\n",
       "      <td>M24050</td>\n",
       "      <td>M</td>\n",
       "      <td>298.0</td>\n",
       "      <td>309.0</td>\n",
       "      <td>1641</td>\n",
       "      <td>35.4</td>\n",
       "      <td>34</td>\n",
       "      <td>0</td>\n",
       "      <td>0</td>\n",
       "      <td>0</td>\n",
       "      <td>0</td>\n",
       "      <td>0</td>\n",
       "      <td>0</td>\n",
       "    </tr>\n",
       "  </tbody>\n",
       "</table>\n",
       "</div>"
      ],
      "text/plain": [
       "   Product ID Type  Air temperature [K]  Process temperature [K]   \n",
       "id                                                                 \n",
       "0      L50096    L                300.6                    309.6  \\\n",
       "1      M20343    M                302.6                    312.1   \n",
       "2      L49454    L                299.3                    308.5   \n",
       "3      L53355    L                301.0                    310.9   \n",
       "4      M24050    M                298.0                    309.0   \n",
       "\n",
       "    Rotational speed [rpm]  Torque [Nm]  Tool wear [min]  Machine failure   \n",
       "id                                                                          \n",
       "0                     1596         36.1              140                0  \\\n",
       "1                     1759         29.1              200                0   \n",
       "2                     1805         26.5               25                0   \n",
       "3                     1524         44.3              197                0   \n",
       "4                     1641         35.4               34                0   \n",
       "\n",
       "    TWF  HDF  PWF  OSF  RNF  \n",
       "id                           \n",
       "0     0    0    0    0    0  \n",
       "1     0    0    0    0    0  \n",
       "2     0    0    0    0    0  \n",
       "3     0    0    0    0    0  \n",
       "4     0    0    0    0    0  "
      ]
     },
     "execution_count": 6,
     "metadata": {},
     "output_type": "execute_result"
    }
   ],
   "source": [
    "df.head()"
   ]
  },
  {
   "cell_type": "code",
   "execution_count": 7,
   "id": "5c1696ff",
   "metadata": {},
   "outputs": [
    {
     "data": {
      "text/plain": [
       "(146429, 13)"
      ]
     },
     "execution_count": 7,
     "metadata": {},
     "output_type": "execute_result"
    }
   ],
   "source": [
    "df.shape"
   ]
  },
  {
   "cell_type": "code",
   "execution_count": 8,
   "id": "74c55228",
   "metadata": {},
   "outputs": [],
   "source": [
    "name_dic = dict(\n",
    "    zip(df.columns,\n",
    "       [\n",
    "           'productId',\n",
    "           'type',\n",
    "           'airTemp',\n",
    "           'processTemp',\n",
    "           'rotationalSpeed',\n",
    "           'torque',\n",
    "           'toolWear',\n",
    "           'target',\n",
    "           'twf',\n",
    "           'hdf',\n",
    "           'pwf',\n",
    "           'osf',\n",
    "           'rnf'\n",
    "       ])\n",
    ")"
   ]
  },
  {
   "cell_type": "code",
   "execution_count": 9,
   "id": "b19783e1",
   "metadata": {},
   "outputs": [],
   "source": [
    "df.rename(columns=name_dic, inplace=True)"
   ]
  },
  {
   "cell_type": "code",
   "execution_count": 10,
   "id": "500c4962",
   "metadata": {},
   "outputs": [],
   "source": [
    "y = df['target']\n",
    "df.drop(['target'], axis=1, inplace=True)"
   ]
  },
  {
   "cell_type": "code",
   "execution_count": 11,
   "id": "1c19bcfe",
   "metadata": {},
   "outputs": [],
   "source": [
    "df.drop(['productId'], axis=1, inplace=True)"
   ]
  },
  {
   "cell_type": "code",
   "execution_count": 12,
   "id": "9a08e4ae",
   "metadata": {},
   "outputs": [],
   "source": [
    "df = pd.concat(\n",
    "    [\n",
    "        df,\n",
    "        pd.get_dummies(df[\"type\"], prefix=\"type\"),\n",
    "    ],\n",
    "    axis=1,\n",
    ")"
   ]
  },
  {
   "cell_type": "code",
   "execution_count": 13,
   "id": "8a561a73",
   "metadata": {},
   "outputs": [],
   "source": [
    "df['power'] = df['torque'] * df['rotationalSpeed']\n",
    "df['rotationalSpeed_TorqueRatio'] = df['rotationalSpeed'] / df['torque']\n",
    "# Calculate temperature difference\n",
    "df['temperatureDifference'] = df['processTemp'] - df['airTemp']\n",
    "# Calculate temperature variability\n",
    "df['temperatureVariability'] = df[['airTemp', 'processTemp']].std(axis=1)\n",
    "# Calculate temperature ratio\n",
    "df['temperatureRatio'] = df['processTemp'] / df['airTemp']"
   ]
  },
  {
   "cell_type": "code",
   "execution_count": 14,
   "id": "e4edb08b",
   "metadata": {},
   "outputs": [],
   "source": [
    "max_tool_wear = df['toolWear'].max()\n",
    "df['toolWearRate'] = df['toolWear'] / max_tool_wear\n",
    "# Calculate temperature change rate\n",
    "df['temperatureChangeRate'] = df['temperatureDifference'] / (np.where(df['toolWear']==0, 2,df['toolWear']))"
   ]
  },
  {
   "cell_type": "code",
   "execution_count": 15,
   "id": "1ab6e9d3",
   "metadata": {},
   "outputs": [],
   "source": [
    "df['totalFailures'] = df[['twf', 'hdf', 'pwf', 'osf', 'rnf']].sum(axis=1)"
   ]
  },
  {
   "cell_type": "code",
   "execution_count": 16,
   "id": "c1cf2ffb",
   "metadata": {},
   "outputs": [],
   "source": [
    "df.drop(['type'], axis=1, inplace=True)"
   ]
  },
  {
   "cell_type": "code",
   "execution_count": 17,
   "id": "d3d784c3",
   "metadata": {},
   "outputs": [
    {
     "data": {
      "text/html": [
       "<div>\n",
       "<style scoped>\n",
       "    .dataframe tbody tr th:only-of-type {\n",
       "        vertical-align: middle;\n",
       "    }\n",
       "\n",
       "    .dataframe tbody tr th {\n",
       "        vertical-align: top;\n",
       "    }\n",
       "\n",
       "    .dataframe thead th {\n",
       "        text-align: right;\n",
       "    }\n",
       "</style>\n",
       "<table border=\"1\" class=\"dataframe\">\n",
       "  <thead>\n",
       "    <tr style=\"text-align: right;\">\n",
       "      <th></th>\n",
       "      <th>airTemp</th>\n",
       "      <th>processTemp</th>\n",
       "      <th>rotationalSpeed</th>\n",
       "      <th>torque</th>\n",
       "      <th>toolWear</th>\n",
       "      <th>twf</th>\n",
       "      <th>hdf</th>\n",
       "      <th>pwf</th>\n",
       "      <th>osf</th>\n",
       "      <th>rnf</th>\n",
       "      <th>...</th>\n",
       "      <th>type_L</th>\n",
       "      <th>type_M</th>\n",
       "      <th>power</th>\n",
       "      <th>rotationalSpeed_TorqueRatio</th>\n",
       "      <th>temperatureDifference</th>\n",
       "      <th>temperatureVariability</th>\n",
       "      <th>temperatureRatio</th>\n",
       "      <th>toolWearRate</th>\n",
       "      <th>temperatureChangeRate</th>\n",
       "      <th>totalFailures</th>\n",
       "    </tr>\n",
       "    <tr>\n",
       "      <th>id</th>\n",
       "      <th></th>\n",
       "      <th></th>\n",
       "      <th></th>\n",
       "      <th></th>\n",
       "      <th></th>\n",
       "      <th></th>\n",
       "      <th></th>\n",
       "      <th></th>\n",
       "      <th></th>\n",
       "      <th></th>\n",
       "      <th></th>\n",
       "      <th></th>\n",
       "      <th></th>\n",
       "      <th></th>\n",
       "      <th></th>\n",
       "      <th></th>\n",
       "      <th></th>\n",
       "      <th></th>\n",
       "      <th></th>\n",
       "      <th></th>\n",
       "      <th></th>\n",
       "    </tr>\n",
       "  </thead>\n",
       "  <tbody>\n",
       "    <tr>\n",
       "      <th>0</th>\n",
       "      <td>300.6</td>\n",
       "      <td>309.6</td>\n",
       "      <td>1596</td>\n",
       "      <td>36.1</td>\n",
       "      <td>140</td>\n",
       "      <td>0</td>\n",
       "      <td>0</td>\n",
       "      <td>0</td>\n",
       "      <td>0</td>\n",
       "      <td>0</td>\n",
       "      <td>...</td>\n",
       "      <td>True</td>\n",
       "      <td>False</td>\n",
       "      <td>57615.6</td>\n",
       "      <td>44.210526</td>\n",
       "      <td>9.0</td>\n",
       "      <td>6.363961</td>\n",
       "      <td>1.029940</td>\n",
       "      <td>0.553360</td>\n",
       "      <td>0.064286</td>\n",
       "      <td>0</td>\n",
       "    </tr>\n",
       "    <tr>\n",
       "      <th>1</th>\n",
       "      <td>302.6</td>\n",
       "      <td>312.1</td>\n",
       "      <td>1759</td>\n",
       "      <td>29.1</td>\n",
       "      <td>200</td>\n",
       "      <td>0</td>\n",
       "      <td>0</td>\n",
       "      <td>0</td>\n",
       "      <td>0</td>\n",
       "      <td>0</td>\n",
       "      <td>...</td>\n",
       "      <td>False</td>\n",
       "      <td>True</td>\n",
       "      <td>51186.9</td>\n",
       "      <td>60.446735</td>\n",
       "      <td>9.5</td>\n",
       "      <td>6.717514</td>\n",
       "      <td>1.031395</td>\n",
       "      <td>0.790514</td>\n",
       "      <td>0.047500</td>\n",
       "      <td>0</td>\n",
       "    </tr>\n",
       "    <tr>\n",
       "      <th>2</th>\n",
       "      <td>299.3</td>\n",
       "      <td>308.5</td>\n",
       "      <td>1805</td>\n",
       "      <td>26.5</td>\n",
       "      <td>25</td>\n",
       "      <td>0</td>\n",
       "      <td>0</td>\n",
       "      <td>0</td>\n",
       "      <td>0</td>\n",
       "      <td>0</td>\n",
       "      <td>...</td>\n",
       "      <td>True</td>\n",
       "      <td>False</td>\n",
       "      <td>47832.5</td>\n",
       "      <td>68.113208</td>\n",
       "      <td>9.2</td>\n",
       "      <td>6.505382</td>\n",
       "      <td>1.030738</td>\n",
       "      <td>0.098814</td>\n",
       "      <td>0.368000</td>\n",
       "      <td>0</td>\n",
       "    </tr>\n",
       "    <tr>\n",
       "      <th>3</th>\n",
       "      <td>301.0</td>\n",
       "      <td>310.9</td>\n",
       "      <td>1524</td>\n",
       "      <td>44.3</td>\n",
       "      <td>197</td>\n",
       "      <td>0</td>\n",
       "      <td>0</td>\n",
       "      <td>0</td>\n",
       "      <td>0</td>\n",
       "      <td>0</td>\n",
       "      <td>...</td>\n",
       "      <td>True</td>\n",
       "      <td>False</td>\n",
       "      <td>67513.2</td>\n",
       "      <td>34.401806</td>\n",
       "      <td>9.9</td>\n",
       "      <td>7.000357</td>\n",
       "      <td>1.032890</td>\n",
       "      <td>0.778656</td>\n",
       "      <td>0.050254</td>\n",
       "      <td>0</td>\n",
       "    </tr>\n",
       "    <tr>\n",
       "      <th>4</th>\n",
       "      <td>298.0</td>\n",
       "      <td>309.0</td>\n",
       "      <td>1641</td>\n",
       "      <td>35.4</td>\n",
       "      <td>34</td>\n",
       "      <td>0</td>\n",
       "      <td>0</td>\n",
       "      <td>0</td>\n",
       "      <td>0</td>\n",
       "      <td>0</td>\n",
       "      <td>...</td>\n",
       "      <td>False</td>\n",
       "      <td>True</td>\n",
       "      <td>58091.4</td>\n",
       "      <td>46.355932</td>\n",
       "      <td>11.0</td>\n",
       "      <td>7.778175</td>\n",
       "      <td>1.036913</td>\n",
       "      <td>0.134387</td>\n",
       "      <td>0.323529</td>\n",
       "      <td>0</td>\n",
       "    </tr>\n",
       "  </tbody>\n",
       "</table>\n",
       "<p>5 rows × 21 columns</p>\n",
       "</div>"
      ],
      "text/plain": [
       "    airTemp  processTemp  rotationalSpeed  torque  toolWear  twf  hdf  pwf   \n",
       "id                                                                           \n",
       "0     300.6        309.6             1596    36.1       140    0    0    0  \\\n",
       "1     302.6        312.1             1759    29.1       200    0    0    0   \n",
       "2     299.3        308.5             1805    26.5        25    0    0    0   \n",
       "3     301.0        310.9             1524    44.3       197    0    0    0   \n",
       "4     298.0        309.0             1641    35.4        34    0    0    0   \n",
       "\n",
       "    osf  rnf  ...  type_L  type_M    power  rotationalSpeed_TorqueRatio   \n",
       "id            ...                                                         \n",
       "0     0    0  ...    True   False  57615.6                    44.210526  \\\n",
       "1     0    0  ...   False    True  51186.9                    60.446735   \n",
       "2     0    0  ...    True   False  47832.5                    68.113208   \n",
       "3     0    0  ...    True   False  67513.2                    34.401806   \n",
       "4     0    0  ...   False    True  58091.4                    46.355932   \n",
       "\n",
       "    temperatureDifference  temperatureVariability  temperatureRatio   \n",
       "id                                                                    \n",
       "0                     9.0                6.363961          1.029940  \\\n",
       "1                     9.5                6.717514          1.031395   \n",
       "2                     9.2                6.505382          1.030738   \n",
       "3                     9.9                7.000357          1.032890   \n",
       "4                    11.0                7.778175          1.036913   \n",
       "\n",
       "    toolWearRate  temperatureChangeRate  totalFailures  \n",
       "id                                                      \n",
       "0       0.553360               0.064286              0  \n",
       "1       0.790514               0.047500              0  \n",
       "2       0.098814               0.368000              0  \n",
       "3       0.778656               0.050254              0  \n",
       "4       0.134387               0.323529              0  \n",
       "\n",
       "[5 rows x 21 columns]"
      ]
     },
     "execution_count": 17,
     "metadata": {},
     "output_type": "execute_result"
    }
   ],
   "source": [
    "df.head()"
   ]
  },
  {
   "cell_type": "code",
   "execution_count": 33,
   "id": "59116910",
   "metadata": {},
   "outputs": [],
   "source": [
    "xgb = XGBClassifier(n_estimators=140, n_jobs=-1, max_depth=3, learning_rate=0.4)"
   ]
  },
  {
   "cell_type": "code",
   "execution_count": 39,
   "id": "3d7328e2",
   "metadata": {},
   "outputs": [],
   "source": [
    "clf = CatBoostClassifier()\n",
    "params = {'iterations': [500],\n",
    "          'depth': [4, 5, 6],\n",
    "          'loss_function': ['Logloss', 'CrossEntropy'],\n",
    "          'l2_leaf_reg': np.logspace(-20, -19, 3),\n",
    "          'leaf_estimation_iterations': [10],\n",
    "#           'eval_metric': ['Accuracy'],\n",
    "#           'use_best_model': ['True'],\n",
    "          'logging_level':['Silent'],\n",
    "          'random_seed': [42]\n",
    "         }\n",
    "clf_grid = GridSearchCV(estimator=clf, param_grid=params, scoring='roc_auc', cv=3)"
   ]
  },
  {
   "cell_type": "code",
   "execution_count": 29,
   "id": "5ed760ae",
   "metadata": {},
   "outputs": [],
   "source": [
    "X_train, X_valid, y_train, y_valid = train_test_split(df, y,\n",
    "                                                               train_size=0.8,\n",
    "                                                               test_size=0.2,\n",
    "                                                               random_state=0)\n"
   ]
  },
  {
   "cell_type": "code",
   "execution_count": 40,
   "id": "19ae189f",
   "metadata": {},
   "outputs": [
    {
     "name": "stderr",
     "output_type": "stream",
     "text": [
      "Training has stopped (degenerate solution on iteration 72, probably too small l2-regularization, try to increase it)\n",
      "Training has stopped (degenerate solution on iteration 131, probably too small l2-regularization, try to increase it)\n",
      "Training has stopped (degenerate solution on iteration 72, probably too small l2-regularization, try to increase it)\n",
      "Training has stopped (degenerate solution on iteration 131, probably too small l2-regularization, try to increase it)\n",
      "Training has stopped (degenerate solution on iteration 72, probably too small l2-regularization, try to increase it)\n",
      "Training has stopped (degenerate solution on iteration 131, probably too small l2-regularization, try to increase it)\n",
      "Training has stopped (degenerate solution on iteration 72, probably too small l2-regularization, try to increase it)\n",
      "Training has stopped (degenerate solution on iteration 131, probably too small l2-regularization, try to increase it)\n",
      "Training has stopped (degenerate solution on iteration 72, probably too small l2-regularization, try to increase it)\n",
      "Training has stopped (degenerate solution on iteration 131, probably too small l2-regularization, try to increase it)\n",
      "Training has stopped (degenerate solution on iteration 72, probably too small l2-regularization, try to increase it)\n",
      "Training has stopped (degenerate solution on iteration 131, probably too small l2-regularization, try to increase it)\n",
      "Training has stopped (degenerate solution on iteration 45, probably too small l2-regularization, try to increase it)\n",
      "Training has stopped (degenerate solution on iteration 74, probably too small l2-regularization, try to increase it)\n",
      "Training has stopped (degenerate solution on iteration 45, probably too small l2-regularization, try to increase it)\n",
      "Training has stopped (degenerate solution on iteration 74, probably too small l2-regularization, try to increase it)\n",
      "Training has stopped (degenerate solution on iteration 45, probably too small l2-regularization, try to increase it)\n",
      "Training has stopped (degenerate solution on iteration 65, probably too small l2-regularization, try to increase it)\n",
      "Training has stopped (degenerate solution on iteration 45, probably too small l2-regularization, try to increase it)\n",
      "Training has stopped (degenerate solution on iteration 65, probably too small l2-regularization, try to increase it)\n",
      "Training has stopped (degenerate solution on iteration 45, probably too small l2-regularization, try to increase it)\n",
      "Training has stopped (degenerate solution on iteration 74, probably too small l2-regularization, try to increase it)\n",
      "Training has stopped (degenerate solution on iteration 410, probably too small l2-regularization, try to increase it)\n",
      "Training has stopped (degenerate solution on iteration 45, probably too small l2-regularization, try to increase it)\n",
      "Training has stopped (degenerate solution on iteration 74, probably too small l2-regularization, try to increase it)\n",
      "Training has stopped (degenerate solution on iteration 410, probably too small l2-regularization, try to increase it)\n",
      "Training has stopped (degenerate solution on iteration 66, probably too small l2-regularization, try to increase it)\n",
      "Training has stopped (degenerate solution on iteration 44, probably too small l2-regularization, try to increase it)\n",
      "Training has stopped (degenerate solution on iteration 66, probably too small l2-regularization, try to increase it)\n",
      "Training has stopped (degenerate solution on iteration 44, probably too small l2-regularization, try to increase it)\n",
      "Training has stopped (degenerate solution on iteration 66, probably too small l2-regularization, try to increase it)\n",
      "Training has stopped (degenerate solution on iteration 44, probably too small l2-regularization, try to increase it)\n",
      "Training has stopped (degenerate solution on iteration 66, probably too small l2-regularization, try to increase it)\n",
      "Training has stopped (degenerate solution on iteration 44, probably too small l2-regularization, try to increase it)\n",
      "Training has stopped (degenerate solution on iteration 66, probably too small l2-regularization, try to increase it)\n",
      "Training has stopped (degenerate solution on iteration 44, probably too small l2-regularization, try to increase it)\n",
      "Training has stopped (degenerate solution on iteration 66, probably too small l2-regularization, try to increase it)\n",
      "Training has stopped (degenerate solution on iteration 44, probably too small l2-regularization, try to increase it)\n",
      "Training has stopped (degenerate solution on iteration 59, probably too small l2-regularization, try to increase it)\n"
     ]
    },
    {
     "data": {
      "text/html": [
       "<style>#sk-container-id-1 {color: black;background-color: white;}#sk-container-id-1 pre{padding: 0;}#sk-container-id-1 div.sk-toggleable {background-color: white;}#sk-container-id-1 label.sk-toggleable__label {cursor: pointer;display: block;width: 100%;margin-bottom: 0;padding: 0.3em;box-sizing: border-box;text-align: center;}#sk-container-id-1 label.sk-toggleable__label-arrow:before {content: \"▸\";float: left;margin-right: 0.25em;color: #696969;}#sk-container-id-1 label.sk-toggleable__label-arrow:hover:before {color: black;}#sk-container-id-1 div.sk-estimator:hover label.sk-toggleable__label-arrow:before {color: black;}#sk-container-id-1 div.sk-toggleable__content {max-height: 0;max-width: 0;overflow: hidden;text-align: left;background-color: #f0f8ff;}#sk-container-id-1 div.sk-toggleable__content pre {margin: 0.2em;color: black;border-radius: 0.25em;background-color: #f0f8ff;}#sk-container-id-1 input.sk-toggleable__control:checked~div.sk-toggleable__content {max-height: 200px;max-width: 100%;overflow: auto;}#sk-container-id-1 input.sk-toggleable__control:checked~label.sk-toggleable__label-arrow:before {content: \"▾\";}#sk-container-id-1 div.sk-estimator input.sk-toggleable__control:checked~label.sk-toggleable__label {background-color: #d4ebff;}#sk-container-id-1 div.sk-label input.sk-toggleable__control:checked~label.sk-toggleable__label {background-color: #d4ebff;}#sk-container-id-1 input.sk-hidden--visually {border: 0;clip: rect(1px 1px 1px 1px);clip: rect(1px, 1px, 1px, 1px);height: 1px;margin: -1px;overflow: hidden;padding: 0;position: absolute;width: 1px;}#sk-container-id-1 div.sk-estimator {font-family: monospace;background-color: #f0f8ff;border: 1px dotted black;border-radius: 0.25em;box-sizing: border-box;margin-bottom: 0.5em;}#sk-container-id-1 div.sk-estimator:hover {background-color: #d4ebff;}#sk-container-id-1 div.sk-parallel-item::after {content: \"\";width: 100%;border-bottom: 1px solid gray;flex-grow: 1;}#sk-container-id-1 div.sk-label:hover label.sk-toggleable__label {background-color: #d4ebff;}#sk-container-id-1 div.sk-serial::before {content: \"\";position: absolute;border-left: 1px solid gray;box-sizing: border-box;top: 0;bottom: 0;left: 50%;z-index: 0;}#sk-container-id-1 div.sk-serial {display: flex;flex-direction: column;align-items: center;background-color: white;padding-right: 0.2em;padding-left: 0.2em;position: relative;}#sk-container-id-1 div.sk-item {position: relative;z-index: 1;}#sk-container-id-1 div.sk-parallel {display: flex;align-items: stretch;justify-content: center;background-color: white;position: relative;}#sk-container-id-1 div.sk-item::before, #sk-container-id-1 div.sk-parallel-item::before {content: \"\";position: absolute;border-left: 1px solid gray;box-sizing: border-box;top: 0;bottom: 0;left: 50%;z-index: -1;}#sk-container-id-1 div.sk-parallel-item {display: flex;flex-direction: column;z-index: 1;position: relative;background-color: white;}#sk-container-id-1 div.sk-parallel-item:first-child::after {align-self: flex-end;width: 50%;}#sk-container-id-1 div.sk-parallel-item:last-child::after {align-self: flex-start;width: 50%;}#sk-container-id-1 div.sk-parallel-item:only-child::after {width: 0;}#sk-container-id-1 div.sk-dashed-wrapped {border: 1px dashed gray;margin: 0 0.4em 0.5em 0.4em;box-sizing: border-box;padding-bottom: 0.4em;background-color: white;}#sk-container-id-1 div.sk-label label {font-family: monospace;font-weight: bold;display: inline-block;line-height: 1.2em;}#sk-container-id-1 div.sk-label-container {text-align: center;}#sk-container-id-1 div.sk-container {/* jupyter's `normalize.less` sets `[hidden] { display: none; }` but bootstrap.min.css set `[hidden] { display: none !important; }` so we also need the `!important` here to be able to override the default hidden behavior on the sphinx rendered scikit-learn.org. See: https://github.com/scikit-learn/scikit-learn/issues/21755 */display: inline-block !important;position: relative;}#sk-container-id-1 div.sk-text-repr-fallback {display: none;}</style><div id=\"sk-container-id-1\" class=\"sk-top-container\"><div class=\"sk-text-repr-fallback\"><pre>GridSearchCV(cv=3,\n",
       "             estimator=&lt;catboost.core.CatBoostClassifier object at 0x7faa622057e0&gt;,\n",
       "             param_grid={&#x27;depth&#x27;: [4, 5, 6], &#x27;iterations&#x27;: [500],\n",
       "                         &#x27;l2_leaf_reg&#x27;: array([1.00000000e-20, 3.16227766e-20, 1.00000000e-19]),\n",
       "                         &#x27;leaf_estimation_iterations&#x27;: [10],\n",
       "                         &#x27;logging_level&#x27;: [&#x27;Silent&#x27;],\n",
       "                         &#x27;loss_function&#x27;: [&#x27;Logloss&#x27;, &#x27;CrossEntropy&#x27;],\n",
       "                         &#x27;random_seed&#x27;: [42]},\n",
       "             scoring=&#x27;roc_auc&#x27;)</pre><b>In a Jupyter environment, please rerun this cell to show the HTML representation or trust the notebook. <br />On GitHub, the HTML representation is unable to render, please try loading this page with nbviewer.org.</b></div><div class=\"sk-container\" hidden><div class=\"sk-item sk-dashed-wrapped\"><div class=\"sk-label-container\"><div class=\"sk-label sk-toggleable\"><input class=\"sk-toggleable__control sk-hidden--visually\" id=\"sk-estimator-id-1\" type=\"checkbox\" ><label for=\"sk-estimator-id-1\" class=\"sk-toggleable__label sk-toggleable__label-arrow\">GridSearchCV</label><div class=\"sk-toggleable__content\"><pre>GridSearchCV(cv=3,\n",
       "             estimator=&lt;catboost.core.CatBoostClassifier object at 0x7faa622057e0&gt;,\n",
       "             param_grid={&#x27;depth&#x27;: [4, 5, 6], &#x27;iterations&#x27;: [500],\n",
       "                         &#x27;l2_leaf_reg&#x27;: array([1.00000000e-20, 3.16227766e-20, 1.00000000e-19]),\n",
       "                         &#x27;leaf_estimation_iterations&#x27;: [10],\n",
       "                         &#x27;logging_level&#x27;: [&#x27;Silent&#x27;],\n",
       "                         &#x27;loss_function&#x27;: [&#x27;Logloss&#x27;, &#x27;CrossEntropy&#x27;],\n",
       "                         &#x27;random_seed&#x27;: [42]},\n",
       "             scoring=&#x27;roc_auc&#x27;)</pre></div></div></div><div class=\"sk-parallel\"><div class=\"sk-parallel-item\"><div class=\"sk-item\"><div class=\"sk-label-container\"><div class=\"sk-label sk-toggleable\"><input class=\"sk-toggleable__control sk-hidden--visually\" id=\"sk-estimator-id-2\" type=\"checkbox\" ><label for=\"sk-estimator-id-2\" class=\"sk-toggleable__label sk-toggleable__label-arrow\">estimator: CatBoostClassifier</label><div class=\"sk-toggleable__content\"><pre>&lt;catboost.core.CatBoostClassifier object at 0x7faa622057e0&gt;</pre></div></div></div><div class=\"sk-serial\"><div class=\"sk-item\"><div class=\"sk-estimator sk-toggleable\"><input class=\"sk-toggleable__control sk-hidden--visually\" id=\"sk-estimator-id-3\" type=\"checkbox\" ><label for=\"sk-estimator-id-3\" class=\"sk-toggleable__label sk-toggleable__label-arrow\">CatBoostClassifier</label><div class=\"sk-toggleable__content\"><pre>&lt;catboost.core.CatBoostClassifier object at 0x7faa622057e0&gt;</pre></div></div></div></div></div></div></div></div></div></div>"
      ],
      "text/plain": [
       "GridSearchCV(cv=3,\n",
       "             estimator=<catboost.core.CatBoostClassifier object at 0x7faa622057e0>,\n",
       "             param_grid={'depth': [4, 5, 6], 'iterations': [500],\n",
       "                         'l2_leaf_reg': array([1.00000000e-20, 3.16227766e-20, 1.00000000e-19]),\n",
       "                         'leaf_estimation_iterations': [10],\n",
       "                         'logging_level': ['Silent'],\n",
       "                         'loss_function': ['Logloss', 'CrossEntropy'],\n",
       "                         'random_seed': [42]},\n",
       "             scoring='roc_auc')"
      ]
     },
     "execution_count": 40,
     "metadata": {},
     "output_type": "execute_result"
    }
   ],
   "source": [
    "clf_grid.fit(X_train, y_train)"
   ]
  },
  {
   "cell_type": "code",
   "execution_count": 41,
   "id": "1f8cfe4e",
   "metadata": {},
   "outputs": [
    {
     "data": {
      "text/plain": [
       "{'depth': 5,\n",
       " 'iterations': 500,\n",
       " 'l2_leaf_reg': 3.162277660168379e-20,\n",
       " 'leaf_estimation_iterations': 10,\n",
       " 'logging_level': 'Silent',\n",
       " 'loss_function': 'Logloss',\n",
       " 'random_seed': 42}"
      ]
     },
     "execution_count": 41,
     "metadata": {},
     "output_type": "execute_result"
    }
   ],
   "source": [
    "clf_grid.best_params_"
   ]
  },
  {
   "cell_type": "code",
   "execution_count": 42,
   "id": "49986361",
   "metadata": {},
   "outputs": [],
   "source": [
    "best_clf = CatBoostClassifier(depth=5,\n",
    " iterations=500,\n",
    " l2_leaf_reg = 3.162277660168379e-20,\n",
    " leaf_estimation_iterations=10,\n",
    " logging_level= 'Silent',\n",
    " loss_function='Logloss',\n",
    " random_seed=42)"
   ]
  },
  {
   "cell_type": "code",
   "execution_count": null,
   "id": "64e4390b",
   "metadata": {},
   "outputs": [],
   "source": []
  },
  {
   "cell_type": "code",
   "execution_count": 43,
   "id": "f9b5e923",
   "metadata": {},
   "outputs": [
    {
     "name": "stderr",
     "output_type": "stream",
     "text": [
      "Training has stopped (degenerate solution on iteration 59, probably too small l2-regularization, try to increase it)\n"
     ]
    },
    {
     "data": {
      "text/plain": [
       "<catboost.core.CatBoostClassifier at 0x7faa64feba60>"
      ]
     },
     "execution_count": 43,
     "metadata": {},
     "output_type": "execute_result"
    }
   ],
   "source": [
    "best_clf.fit(X_train,y_train)"
   ]
  },
  {
   "cell_type": "code",
   "execution_count": null,
   "id": "21567800",
   "metadata": {},
   "outputs": [],
   "source": []
  },
  {
   "cell_type": "code",
   "execution_count": null,
   "id": "1644e284",
   "metadata": {},
   "outputs": [],
   "source": []
  },
  {
   "cell_type": "code",
   "execution_count": 34,
   "id": "103b9453",
   "metadata": {},
   "outputs": [],
   "source": [
    "pred = xgb.fit(X_train, y_train)"
   ]
  },
  {
   "cell_type": "code",
   "execution_count": 35,
   "id": "e81c3d75",
   "metadata": {},
   "outputs": [],
   "source": [
    "y_pred = xgb.predict_proba(X_valid)"
   ]
  },
  {
   "cell_type": "code",
   "execution_count": 36,
   "id": "27d98092",
   "metadata": {},
   "outputs": [
    {
     "data": {
      "text/plain": [
       "0.9726356580611024"
      ]
     },
     "execution_count": 36,
     "metadata": {},
     "output_type": "execute_result"
    }
   ],
   "source": [
    "roc_auc_score(y_valid, y_pred[:,1])"
   ]
  },
  {
   "cell_type": "markdown",
   "id": "25426af9",
   "metadata": {},
   "source": [
    "# test df"
   ]
  },
  {
   "cell_type": "code",
   "execution_count": 34,
   "id": "ccdbbf84",
   "metadata": {},
   "outputs": [],
   "source": [
    "df = pd.read_csv('./test.csv', index_col='id')"
   ]
  },
  {
   "cell_type": "code",
   "execution_count": 35,
   "id": "cd385aaf",
   "metadata": {},
   "outputs": [],
   "source": [
    "name = dict(\n",
    "    zip(df.columns,\n",
    "       [\n",
    "           'productId',\n",
    "           'type',\n",
    "           'airTemp',\n",
    "           'processTemp',\n",
    "           'rotationalSpeed',\n",
    "           'torque',\n",
    "           'toolWear',\n",
    "           'twf',\n",
    "           'hdf',\n",
    "           'pwf',\n",
    "           'osf',\n",
    "           'rnf'\n",
    "       ])\n",
    ")"
   ]
  },
  {
   "cell_type": "code",
   "execution_count": 36,
   "id": "a83e6711",
   "metadata": {},
   "outputs": [],
   "source": [
    "df.rename(columns=name, inplace=True)"
   ]
  },
  {
   "cell_type": "code",
   "execution_count": 37,
   "id": "655af7d9",
   "metadata": {},
   "outputs": [],
   "source": [
    "df.drop(['productId'], axis=1, inplace=True)"
   ]
  },
  {
   "cell_type": "code",
   "execution_count": 38,
   "id": "ea9db21e",
   "metadata": {},
   "outputs": [],
   "source": [
    "df = pd.concat(\n",
    "    [\n",
    "        df,\n",
    "        pd.get_dummies(df[\"type\"], prefix=\"type\"),\n",
    "    ],\n",
    "    axis=1,\n",
    ")"
   ]
  },
  {
   "cell_type": "code",
   "execution_count": 39,
   "id": "0705c745",
   "metadata": {},
   "outputs": [],
   "source": [
    "df['power'] = df['torque'] * df['rotationalSpeed']\n",
    "df['rotationalSpeed_TorqueRatio'] = df['rotationalSpeed'] / df['torque']\n",
    "# Calculate temperature difference\n",
    "df['temperatureDifference'] = df['processTemp'] - df['airTemp']\n",
    "# Calculate temperature variability\n",
    "df['temperatureVariability'] = df[['airTemp', 'processTemp']].std(axis=1)\n",
    "# Calculate temperature ratio\n",
    "df['temperatureRatio'] = df['processTemp'] / df['airTemp']\n",
    "max_tool_wear = df['toolWear'].max()\n",
    "df['toolWearRate'] = df['toolWear'] / max_tool_wear\n",
    "# Calculate temperature change rate\n",
    "df['temperatureChangeRate'] = df['temperatureDifference'] / (np.where(df['toolWear']==0, 2,df['toolWear']))\n",
    "df['totalFailures'] = df[['twf', 'hdf', 'pwf', 'osf', 'rnf']].sum(axis=1)"
   ]
  },
  {
   "cell_type": "code",
   "execution_count": 40,
   "id": "31bca1a8",
   "metadata": {},
   "outputs": [],
   "source": [
    "df.drop(['type'], axis=1, inplace=True)"
   ]
  },
  {
   "cell_type": "code",
   "execution_count": 41,
   "id": "bab2d3a1",
   "metadata": {},
   "outputs": [],
   "source": [
    "predict = xgb.predict_proba(df)"
   ]
  },
  {
   "cell_type": "code",
   "execution_count": 42,
   "id": "525ca63d",
   "metadata": {},
   "outputs": [],
   "source": [
    "output = pd.DataFrame({'id': df.index, 'Machine failure': predict[:,1]})\n",
    "output.to_csv('submit.csv', index=False)"
   ]
  },
  {
   "cell_type": "code",
   "execution_count": 44,
   "id": "fead3218",
   "metadata": {},
   "outputs": [
    {
     "data": {
      "text/html": [
       "<div>\n",
       "<style scoped>\n",
       "    .dataframe tbody tr th:only-of-type {\n",
       "        vertical-align: middle;\n",
       "    }\n",
       "\n",
       "    .dataframe tbody tr th {\n",
       "        vertical-align: top;\n",
       "    }\n",
       "\n",
       "    .dataframe thead th {\n",
       "        text-align: right;\n",
       "    }\n",
       "</style>\n",
       "<table border=\"1\" class=\"dataframe\">\n",
       "  <thead>\n",
       "    <tr style=\"text-align: right;\">\n",
       "      <th></th>\n",
       "      <th>id</th>\n",
       "      <th>Machine failure</th>\n",
       "    </tr>\n",
       "  </thead>\n",
       "  <tbody>\n",
       "    <tr>\n",
       "      <th>0</th>\n",
       "      <td>136429</td>\n",
       "      <td>0.001231</td>\n",
       "    </tr>\n",
       "    <tr>\n",
       "      <th>1</th>\n",
       "      <td>136430</td>\n",
       "      <td>0.001811</td>\n",
       "    </tr>\n",
       "    <tr>\n",
       "      <th>2</th>\n",
       "      <td>136431</td>\n",
       "      <td>0.000818</td>\n",
       "    </tr>\n",
       "    <tr>\n",
       "      <th>3</th>\n",
       "      <td>136432</td>\n",
       "      <td>0.001287</td>\n",
       "    </tr>\n",
       "    <tr>\n",
       "      <th>4</th>\n",
       "      <td>136433</td>\n",
       "      <td>0.001329</td>\n",
       "    </tr>\n",
       "  </tbody>\n",
       "</table>\n",
       "</div>"
      ],
      "text/plain": [
       "       id  Machine failure\n",
       "0  136429         0.001231\n",
       "1  136430         0.001811\n",
       "2  136431         0.000818\n",
       "3  136432         0.001287\n",
       "4  136433         0.001329"
      ]
     },
     "execution_count": 44,
     "metadata": {},
     "output_type": "execute_result"
    }
   ],
   "source": [
    "output.head()"
   ]
  }
 ],
 "metadata": {
  "kernelspec": {
   "display_name": "Python 3 (ipykernel)",
   "language": "python",
   "name": "python3"
  },
  "language_info": {
   "codemirror_mode": {
    "name": "ipython",
    "version": 3
   },
   "file_extension": ".py",
   "mimetype": "text/x-python",
   "name": "python",
   "nbconvert_exporter": "python",
   "pygments_lexer": "ipython3",
   "version": "3.10.6"
  }
 },
 "nbformat": 4,
 "nbformat_minor": 5
}
