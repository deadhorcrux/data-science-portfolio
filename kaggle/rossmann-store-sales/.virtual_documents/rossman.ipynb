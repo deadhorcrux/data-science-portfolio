import warnings
warnings.filterwarnings('ignore')

import pandas as pd
import numpy as np
import matplotlib.pyplot as plt
import seaborn as sns

from sklearn.preprocessing import StandardScaler, OrdinalEncoder
from sklearn.linear_model import Lasso
from sklearn.model_selection import GroupKFold
from lightgbm import LGBMRegressor
from pprint import pprint;

import holidays
import dateutil.easter as easter
from colorama import Fore, Style, init;


sns.set({"axes.facecolor"       : "#ffffff",
         "figure.facecolor"     : "#ffffff",
         "axes.edgecolor"       : "#000000",
         "grid.color"           : "#ffffff",
         "font.family"          : ['Cambria'],
         "axes.labelcolor"      : "#000000",
         "xtick.color"          : "#000000",
         "ytick.color"          : "#000000",
         "grid.linewidth"       : 0.75,  
         "grid.linestyle"       : "--",
         "axes.titlecolor"      : '#0099e6',
         'axes.titlesize'       : 8.5,
         'axes.labelweight'     : "bold",
         'legend.fontsize'      : 7.0,
         'legend.title_fontsize': 7.0,
         'font.size'            : 7.5,
         'xtick.labelsize'      : 7.5,
         'ytick.labelsize'      : 7.5,        
        });
  
def PrintColor(text:str, color = Fore.BLUE, style = Style.BRIGHT):
    "Prints color outputs using colorama using a text F-string";
    print(style + color + text + Style.RESET_ALL); 



sample_submission = pd.read_csv('./sample_submission.csv')
store = pd.read_csv('./store.csv')
test = pd.read_csv('./test.csv')
train = pd.read_csv('./train.csv')


PrintColor(f"\nFeatures\n");
pprint(train.columns, depth = 1, indent = 5);


train.describe()


train.describe(include='O')


train.info()


train['StateHoliday'].value_counts()


plt.figure(figsize=(14,9))
sns.heatmap(train.corr(), annot=True);


PrintColor('----------> Target distribution')
sns.boxplot(train['Sales']);


train['Date'] = pd.to_datetime(train['Date'])

monthly_sales = train.resample('M', on='Date')['Sales'].sum()

plt.figure(figsize=(15,6))
sns.lineplot(x = monthly_sales.index, y = monthly_sales)
plt.show();


daily_sales = train.resample('D', on='Date')['Sales'].sum()

weekly_sales_trend = daily_sales.rolling(window=7).mean()
monthly_sales_trend = daily_sales.rolling(window=10).mean()
PrintColor('---------> Smoothing Plot')
plt.figure(figsize=(15,6))
sns.lineplot(x=daily_sales.index, y=daily_sales, label='Original')
sns.lineplot(x=weekly_sales_trend.index, y=weekly_sales_trend, label='Weekly trend')
sns.lineplot(x=monthly_sales_trend.index, y=monthly_sales_trend, label='Monthly trend')
plt.show();


monthly_sales_year = train.resample('M', on='Date')['Sales'].sum().reset_index()
monthly_sales_year['year'] = monthly_sales_year['Date'].dt.year
plt.figure(figsize=(15,8))
PrintColor('-------> Annual Sales')
for year in sorted(monthly_sales_year['year'].unique()):
    year_data = monthly_sales_year[monthly_sales_year['year'] == year]
    sns.lineplot(x=year_data['Date'].dt.month, y=year_data['Sales'], label=year)
plt.show();


train['Date'] = pd.to_datetime(train['Date'])
test['Date'] = pd.to_datetime(test['Date'])

# Extract date info
train['Year'] = train['Date'].dt.year
train['Month'] = train['Date'].dt.month
train['Day'] = train['Date'].dt.day
train['WeekDay'] = train['Date'].dt.dayofweek

test['Year'] = test['Date'].dt.year
test['Month'] = test['Date'].dt.month
test['Day'] = test['Date'].dt.day
test['WeekDay'] = test['Date'].dt.dayofweek


temp = train.loc[~((train['Date']>= "2014-06-01")&(train['Date'] <= "2014-12-01"))].copy()
train_agg = temp.groupby('Date')['Sales'].sum().reset_index()
sns.lineplot(data=train_agg, x='Date', y='Sales');


test_agg = test.groupby(["Date"]).first().reset_index().drop(['Id'], axis=1)
test_dates = test_agg[["Date"]]
test_agg[:5]


y_train = train_agg['Sales']
X_train = train_agg.drop(['Sales'], axis=1)
X_test = test_agg


def feature_engineer(df):
    new_df = df.copy()
    new_df["Month"] = df["Date"].dt.month
    new_df["Month_sin"] = np.sin(new_df['Month'] * (2 * np.pi / 12))
    new_df["Month_cos"] = np.cos(new_df['Month'] * (2 * np.pi / 12))
    new_df["Day"] = df["Date"].dt.day
    new_df["Day_sin"] = np.sin(new_df['Day'] * (2 * np.pi / 12))
    new_df["DayOfWeek"] = df["Date"].dt.dayofweek
    new_df["DayOfWeek"] = new_df["DayOfWeek"].apply(lambda x: 0 if x<=3 else(1 if x==4 else (2 if x==5 else (3))))
    
    new_df["DayOfYear"] = df["Date"].dt.dayofyear
        
    new_df["Year"] = df["Date"].dt.year

    new_df = new_df.drop(columns=["Date","Month","Day", "DayOfYear"])

    return new_df


X_train = feature_engineer(X_train)
X_test = feature_engineer(X_test)


feat = ['Store', 'Open', 'Promo', 'StateHoliday', 'SchoolHoliday', 'WeekDay']
X_test = X_test.drop(feat, axis=1)


X_train = X_train.reindex(sorted(X_train.columns), axis=1)
X_test = X_test.reindex(sorted(X_test.columns), axis=1)


def train_and_predict(X_train, y_train, X_test):
    preds_lst = []
    n_splits = 3
    kf = GroupKFold(n_splits=n_splits)
    scores = []
    train_scores = np.zeros(len(X_train))

    for fold, (train_idx, val_idx) in enumerate(kf.split(X_train, groups=X_train.Year)):
        model = LGBMRegressor(n_estimators=2000, learning_rate=0.01, num_leaves=50, random_state=42, verbose=-1)
        scaler = StandardScaler()
        X_train_scaled = pd.DataFrame(scaler.fit_transform(X_train.iloc[train_idx]), columns=X_train.columns)
        X_val_scaled = pd.DataFrame(scaler.transform(X_train.iloc[val_idx]), columns=X_train.columns)
        X_test_scaled = pd.DataFrame(scaler.transform(X_test), columns=X_test.columns)

        model.fit(X_train_scaled, y_train.iloc[train_idx])
        preds_lst.append(model.predict(X_test_scaled))
        train_scores[val_idx] = model.predict(X_val_scaled)
        sc = model.score(X_val_scaled, y_train.iloc[val_idx])
        scores.append(sc)
        PrintColor(f"---------> Fold {fold}: Score = {sc}")

    mean_score = np.mean(scores)
    PrintColor(f"---------> MEAN SCORE: {mean_score}")
    return preds_lst, train_scores

preds_lst, train_scores = train_and_predict(X_train, y_train, X_test)
train_pred = pd.DataFrame()
train_pred['Date'] = train_agg['Date']
train_pred['Sales'] = train_scores


preds_df = pd.DataFrame(np.column_stack(preds_lst), columns=['2013', '2014', '2015'])
preds_df['Sales'] = preds_df.mean(axis=1)
test_dates["Sales"] = preds_df['Sales']


plt.figure(figsize=(15, 10))
sns.lineplot(data=train_agg, x="Date", y="Sales", label='Actual')
sns.lineplot(data=train_pred, x='Date', y='Sales', label="Forecast")
plt.xlabel('Date')
plt.ylabel('Number of Sales')
plt.title('Actual vs Forecasted Sales')
plt.legend()
plt.grid(True)
plt.tight_layout()
plt.show()


plt.figure(figsize=(15, 10))
sns.lineplot(data=train_agg, x="Date", y="Sales", label='Original')
sns.lineplot(data=test_dates, x="Date", y="Sales", label='Predicted')
plt.xlabel('Date')
plt.ylabel('Number of Sales')
plt.title('Original vs Predicted Sales')
plt.legend()
plt.grid(True)
plt.tight_layout()
plt.show()


test_data = pd.merge(test, test_dates, how="left")


def disaggregate_forecast(df, original_data):

    new_df = df.copy()
    
    total_num_sold = original_data["Sales"].sum()

    stores_weights = original_data.groupby("Store")["Sales"].sum() / total_num_sold
                
    for store in stores_weights.index:
        new_df.loc[new_df["Store"] == store, "Sales"] *= stores_weights[store]
    

    new_df["Sales"] = new_df["Sales"].round()

    return new_df


store_weights = train.groupby("Store")["Sales"].sum()/train["Sales"].sum()


final_df = disaggregate_forecast(test_data,train)


submission = pd.read_csv("./sample_submission.csv")
submission["Sales"] = final_df["Sales"]

submission.head()
submission.to_csv('submission.csv', index = False)
