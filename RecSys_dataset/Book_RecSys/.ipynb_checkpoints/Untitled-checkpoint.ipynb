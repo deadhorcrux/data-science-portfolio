{
 "cells": [
  {
   "cell_type": "code",
   "execution_count": 106,
   "id": "912561fe-985d-45a0-b495-d2ed6c93ea8b",
   "metadata": {
    "tags": []
   },
   "outputs": [],
   "source": [
    "import pandas as pd \n",
    "import seaborn as sns\n",
    "from scipy import stats\n",
    "from ast import literal_eval\n",
    "from sklearn.feature_extraction.text import CountVectorizer\n",
    "from sklearn.metrics.pairwise import cosine_similarity\n",
    "from surprise import Reader, Dataset, SVD\n",
    "from surprise.model_selection import cross_validate\n",
    "\n",
    "import warnings; warnings.simplefilter('ignore')"
   ]
  },
  {
   "cell_type": "code",
   "execution_count": 2,
   "id": "49b2417e-b8a0-4bcf-8aa4-3711191afd54",
   "metadata": {
    "tags": []
   },
   "outputs": [],
   "source": [
    "books = pd.read_csv('./book_data/Books.csv')\n",
    "ratings = pd.read_csv('./book_data/Ratings.csv')\n",
    "users = pd.read_csv('./book_data/Users.csv')"
   ]
  },
  {
   "cell_type": "code",
   "execution_count": 3,
   "id": "ccfe1065-d63d-4a98-9f4d-305d8e18d870",
   "metadata": {
    "tags": []
   },
   "outputs": [
    {
     "data": {
      "text/html": [
       "<div>\n",
       "<style scoped>\n",
       "    .dataframe tbody tr th:only-of-type {\n",
       "        vertical-align: middle;\n",
       "    }\n",
       "\n",
       "    .dataframe tbody tr th {\n",
       "        vertical-align: top;\n",
       "    }\n",
       "\n",
       "    .dataframe thead th {\n",
       "        text-align: right;\n",
       "    }\n",
       "</style>\n",
       "<table border=\"1\" class=\"dataframe\">\n",
       "  <thead>\n",
       "    <tr style=\"text-align: right;\">\n",
       "      <th></th>\n",
       "      <th>ISBN</th>\n",
       "      <th>Book-Title</th>\n",
       "      <th>Book-Author</th>\n",
       "      <th>Year-Of-Publication</th>\n",
       "      <th>Publisher</th>\n",
       "      <th>Image-URL-S</th>\n",
       "      <th>Image-URL-M</th>\n",
       "      <th>Image-URL-L</th>\n",
       "    </tr>\n",
       "  </thead>\n",
       "  <tbody>\n",
       "    <tr>\n",
       "      <th>0</th>\n",
       "      <td>0195153448</td>\n",
       "      <td>Classical Mythology</td>\n",
       "      <td>Mark P. O. Morford</td>\n",
       "      <td>2002</td>\n",
       "      <td>Oxford University Press</td>\n",
       "      <td>http://images.amazon.com/images/P/0195153448.0...</td>\n",
       "      <td>http://images.amazon.com/images/P/0195153448.0...</td>\n",
       "      <td>http://images.amazon.com/images/P/0195153448.0...</td>\n",
       "    </tr>\n",
       "    <tr>\n",
       "      <th>1</th>\n",
       "      <td>0002005018</td>\n",
       "      <td>Clara Callan</td>\n",
       "      <td>Richard Bruce Wright</td>\n",
       "      <td>2001</td>\n",
       "      <td>HarperFlamingo Canada</td>\n",
       "      <td>http://images.amazon.com/images/P/0002005018.0...</td>\n",
       "      <td>http://images.amazon.com/images/P/0002005018.0...</td>\n",
       "      <td>http://images.amazon.com/images/P/0002005018.0...</td>\n",
       "    </tr>\n",
       "    <tr>\n",
       "      <th>2</th>\n",
       "      <td>0060973129</td>\n",
       "      <td>Decision in Normandy</td>\n",
       "      <td>Carlo D'Este</td>\n",
       "      <td>1991</td>\n",
       "      <td>HarperPerennial</td>\n",
       "      <td>http://images.amazon.com/images/P/0060973129.0...</td>\n",
       "      <td>http://images.amazon.com/images/P/0060973129.0...</td>\n",
       "      <td>http://images.amazon.com/images/P/0060973129.0...</td>\n",
       "    </tr>\n",
       "    <tr>\n",
       "      <th>3</th>\n",
       "      <td>0374157065</td>\n",
       "      <td>Flu: The Story of the Great Influenza Pandemic...</td>\n",
       "      <td>Gina Bari Kolata</td>\n",
       "      <td>1999</td>\n",
       "      <td>Farrar Straus Giroux</td>\n",
       "      <td>http://images.amazon.com/images/P/0374157065.0...</td>\n",
       "      <td>http://images.amazon.com/images/P/0374157065.0...</td>\n",
       "      <td>http://images.amazon.com/images/P/0374157065.0...</td>\n",
       "    </tr>\n",
       "    <tr>\n",
       "      <th>4</th>\n",
       "      <td>0393045218</td>\n",
       "      <td>The Mummies of Urumchi</td>\n",
       "      <td>E. J. W. Barber</td>\n",
       "      <td>1999</td>\n",
       "      <td>W. W. Norton &amp;amp; Company</td>\n",
       "      <td>http://images.amazon.com/images/P/0393045218.0...</td>\n",
       "      <td>http://images.amazon.com/images/P/0393045218.0...</td>\n",
       "      <td>http://images.amazon.com/images/P/0393045218.0...</td>\n",
       "    </tr>\n",
       "  </tbody>\n",
       "</table>\n",
       "</div>"
      ],
      "text/plain": [
       "         ISBN                                         Book-Title   \n",
       "0  0195153448                                Classical Mythology  \\\n",
       "1  0002005018                                       Clara Callan   \n",
       "2  0060973129                               Decision in Normandy   \n",
       "3  0374157065  Flu: The Story of the Great Influenza Pandemic...   \n",
       "4  0393045218                             The Mummies of Urumchi   \n",
       "\n",
       "            Book-Author Year-Of-Publication                   Publisher   \n",
       "0    Mark P. O. Morford                2002     Oxford University Press  \\\n",
       "1  Richard Bruce Wright                2001       HarperFlamingo Canada   \n",
       "2          Carlo D'Este                1991             HarperPerennial   \n",
       "3      Gina Bari Kolata                1999        Farrar Straus Giroux   \n",
       "4       E. J. W. Barber                1999  W. W. Norton &amp; Company   \n",
       "\n",
       "                                         Image-URL-S   \n",
       "0  http://images.amazon.com/images/P/0195153448.0...  \\\n",
       "1  http://images.amazon.com/images/P/0002005018.0...   \n",
       "2  http://images.amazon.com/images/P/0060973129.0...   \n",
       "3  http://images.amazon.com/images/P/0374157065.0...   \n",
       "4  http://images.amazon.com/images/P/0393045218.0...   \n",
       "\n",
       "                                         Image-URL-M   \n",
       "0  http://images.amazon.com/images/P/0195153448.0...  \\\n",
       "1  http://images.amazon.com/images/P/0002005018.0...   \n",
       "2  http://images.amazon.com/images/P/0060973129.0...   \n",
       "3  http://images.amazon.com/images/P/0374157065.0...   \n",
       "4  http://images.amazon.com/images/P/0393045218.0...   \n",
       "\n",
       "                                         Image-URL-L  \n",
       "0  http://images.amazon.com/images/P/0195153448.0...  \n",
       "1  http://images.amazon.com/images/P/0002005018.0...  \n",
       "2  http://images.amazon.com/images/P/0060973129.0...  \n",
       "3  http://images.amazon.com/images/P/0374157065.0...  \n",
       "4  http://images.amazon.com/images/P/0393045218.0...  "
      ]
     },
     "execution_count": 3,
     "metadata": {},
     "output_type": "execute_result"
    }
   ],
   "source": [
    "books.head()"
   ]
  },
  {
   "cell_type": "code",
   "execution_count": 4,
   "id": "52f4e24c-c80b-4910-b7c3-08b10b25cae1",
   "metadata": {
    "tags": []
   },
   "outputs": [
    {
     "data": {
      "text/html": [
       "<div>\n",
       "<style scoped>\n",
       "    .dataframe tbody tr th:only-of-type {\n",
       "        vertical-align: middle;\n",
       "    }\n",
       "\n",
       "    .dataframe tbody tr th {\n",
       "        vertical-align: top;\n",
       "    }\n",
       "\n",
       "    .dataframe thead th {\n",
       "        text-align: right;\n",
       "    }\n",
       "</style>\n",
       "<table border=\"1\" class=\"dataframe\">\n",
       "  <thead>\n",
       "    <tr style=\"text-align: right;\">\n",
       "      <th></th>\n",
       "      <th>User-ID</th>\n",
       "      <th>Location</th>\n",
       "      <th>Age</th>\n",
       "      <th>ISBN</th>\n",
       "      <th>Book-Rating</th>\n",
       "    </tr>\n",
       "  </thead>\n",
       "  <tbody>\n",
       "    <tr>\n",
       "      <th>0</th>\n",
       "      <td>1</td>\n",
       "      <td>nyc, new york, usa</td>\n",
       "      <td>NaN</td>\n",
       "      <td>NaN</td>\n",
       "      <td>NaN</td>\n",
       "    </tr>\n",
       "    <tr>\n",
       "      <th>1</th>\n",
       "      <td>2</td>\n",
       "      <td>stockton, california, usa</td>\n",
       "      <td>18.0</td>\n",
       "      <td>0195153448</td>\n",
       "      <td>0.0</td>\n",
       "    </tr>\n",
       "    <tr>\n",
       "      <th>2</th>\n",
       "      <td>3</td>\n",
       "      <td>moscow, yukon territory, russia</td>\n",
       "      <td>NaN</td>\n",
       "      <td>NaN</td>\n",
       "      <td>NaN</td>\n",
       "    </tr>\n",
       "    <tr>\n",
       "      <th>3</th>\n",
       "      <td>4</td>\n",
       "      <td>porto, v.n.gaia, portugal</td>\n",
       "      <td>17.0</td>\n",
       "      <td>NaN</td>\n",
       "      <td>NaN</td>\n",
       "    </tr>\n",
       "    <tr>\n",
       "      <th>4</th>\n",
       "      <td>5</td>\n",
       "      <td>farnborough, hants, united kingdom</td>\n",
       "      <td>NaN</td>\n",
       "      <td>NaN</td>\n",
       "      <td>NaN</td>\n",
       "    </tr>\n",
       "  </tbody>\n",
       "</table>\n",
       "</div>"
      ],
      "text/plain": [
       "   User-ID                            Location   Age        ISBN  Book-Rating\n",
       "0        1                  nyc, new york, usa   NaN         NaN          NaN\n",
       "1        2           stockton, california, usa  18.0  0195153448          0.0\n",
       "2        3     moscow, yukon territory, russia   NaN         NaN          NaN\n",
       "3        4           porto, v.n.gaia, portugal  17.0         NaN          NaN\n",
       "4        5  farnborough, hants, united kingdom   NaN         NaN          NaN"
      ]
     },
     "execution_count": 4,
     "metadata": {},
     "output_type": "execute_result"
    }
   ],
   "source": [
    "df = users.merge(ratings, how='left', on='User-ID')\n",
    "df.head()"
   ]
  },
  {
   "cell_type": "code",
   "execution_count": 5,
   "id": "4fc6d53a-b0e7-4e75-96e6-c40193f1b076",
   "metadata": {
    "tags": []
   },
   "outputs": [],
   "source": [
    "df = books.merge(df, left_on = 'ISBN',right_on = 'ISBN')"
   ]
  },
  {
   "cell_type": "code",
   "execution_count": 6,
   "id": "064101cf-1351-4a4c-a281-2ae2c1a1cdf1",
   "metadata": {
    "tags": []
   },
   "outputs": [],
   "source": [
    "d = {}\n",
    "for i, j in enumerate(df['ISBN'].unique()):\n",
    "    d[j] = i\n",
    "df['ISBN'] = df['ISBN'].map(d)"
   ]
  },
  {
   "cell_type": "code",
   "execution_count": 7,
   "id": "522a8168-23e3-4501-a167-1dcaec902615",
   "metadata": {},
   "outputs": [],
   "source": [
    "md = df.copy()"
   ]
  },
  {
   "cell_type": "code",
   "execution_count": 8,
   "id": "8a5c9a39-5c04-4f72-875c-fd78cd60ea5e",
   "metadata": {},
   "outputs": [],
   "source": [
    "df = df[['User-ID', 'ISBN', 'Book-Rating']]"
   ]
  },
  {
   "cell_type": "code",
   "execution_count": 23,
   "id": "f877cc7e-06a8-4a00-8a86-41e654c2bd22",
   "metadata": {
    "tags": []
   },
   "outputs": [
    {
     "data": {
      "text/html": [
       "<div>\n",
       "<style scoped>\n",
       "    .dataframe tbody tr th:only-of-type {\n",
       "        vertical-align: middle;\n",
       "    }\n",
       "\n",
       "    .dataframe tbody tr th {\n",
       "        vertical-align: top;\n",
       "    }\n",
       "\n",
       "    .dataframe thead th {\n",
       "        text-align: right;\n",
       "    }\n",
       "</style>\n",
       "<table border=\"1\" class=\"dataframe\">\n",
       "  <thead>\n",
       "    <tr style=\"text-align: right;\">\n",
       "      <th></th>\n",
       "      <th>User-ID</th>\n",
       "      <th>ISBN</th>\n",
       "      <th>Book-Rating</th>\n",
       "    </tr>\n",
       "  </thead>\n",
       "  <tbody>\n",
       "    <tr>\n",
       "      <th>0</th>\n",
       "      <td>2</td>\n",
       "      <td>0</td>\n",
       "      <td>0.0</td>\n",
       "    </tr>\n",
       "    <tr>\n",
       "      <th>1</th>\n",
       "      <td>8</td>\n",
       "      <td>1</td>\n",
       "      <td>5.0</td>\n",
       "    </tr>\n",
       "    <tr>\n",
       "      <th>2</th>\n",
       "      <td>11400</td>\n",
       "      <td>1</td>\n",
       "      <td>0.0</td>\n",
       "    </tr>\n",
       "    <tr>\n",
       "      <th>3</th>\n",
       "      <td>11676</td>\n",
       "      <td>1</td>\n",
       "      <td>8.0</td>\n",
       "    </tr>\n",
       "    <tr>\n",
       "      <th>4</th>\n",
       "      <td>41385</td>\n",
       "      <td>1</td>\n",
       "      <td>0.0</td>\n",
       "    </tr>\n",
       "  </tbody>\n",
       "</table>\n",
       "</div>"
      ],
      "text/plain": [
       "   User-ID  ISBN  Book-Rating\n",
       "0        2     0          0.0\n",
       "1        8     1          5.0\n",
       "2    11400     1          0.0\n",
       "3    11676     1          8.0\n",
       "4    41385     1          0.0"
      ]
     },
     "execution_count": 23,
     "metadata": {},
     "output_type": "execute_result"
    }
   ],
   "source": [
    "df.head()"
   ]
  },
  {
   "cell_type": "code",
   "execution_count": 9,
   "id": "60441def-a0c0-4606-80d4-42c1e6a1ff3f",
   "metadata": {
    "tags": []
   },
   "outputs": [],
   "source": [
    "reader = Reader()"
   ]
  },
  {
   "cell_type": "code",
   "execution_count": 10,
   "id": "b1f13bb7-f4e1-498e-b439-43e6a337b866",
   "metadata": {
    "tags": []
   },
   "outputs": [],
   "source": [
    "data = Dataset.load_from_df(ratings[['User-ID', 'ISBN', 'Book-Rating']], reader)"
   ]
  },
  {
   "cell_type": "code",
   "execution_count": 11,
   "id": "f4d3c00f-d9f2-4040-a216-2ac55e2a5410",
   "metadata": {
    "tags": []
   },
   "outputs": [],
   "source": [
    "svd = SVD()"
   ]
  },
  {
   "cell_type": "code",
   "execution_count": 12,
   "id": "3b159820-261b-416e-a376-cda8ef65879b",
   "metadata": {
    "tags": []
   },
   "outputs": [
    {
     "data": {
      "text/plain": [
       "{'test_rmse': array([3.50289744, 3.50580509, 3.50768769, 3.50562021, 3.4999434 ]),\n",
       " 'test_mae': array([2.98138417, 2.97974415, 2.98350748, 2.98275594, 2.97550705]),\n",
       " 'fit_time': (31.033143758773804,\n",
       "  38.24634599685669,\n",
       "  33.32606053352356,\n",
       "  30.26677179336548,\n",
       "  22.33441686630249),\n",
       " 'test_time': (17.374815940856934,\n",
       "  37.811400413513184,\n",
       "  40.42589020729065,\n",
       "  26.25611710548401,\n",
       "  11.297343254089355)}"
      ]
     },
     "execution_count": 12,
     "metadata": {},
     "output_type": "execute_result"
    }
   ],
   "source": [
    "cross_validate(svd,data,measures=['RMSE', 'MAE'],cv=5, verbose=False, n_jobs=-1)"
   ]
  },
  {
   "cell_type": "code",
   "execution_count": 13,
   "id": "8962d656-6d29-4223-ad90-bf02928e4351",
   "metadata": {
    "tags": []
   },
   "outputs": [
    {
     "data": {
      "text/plain": [
       "<surprise.prediction_algorithms.matrix_factorization.SVD at 0x7faa5a0e83a0>"
      ]
     },
     "execution_count": 13,
     "metadata": {},
     "output_type": "execute_result"
    }
   ],
   "source": [
    "trainset = data.build_full_trainset()\n",
    "svd.fit(trainset)"
   ]
  },
  {
   "cell_type": "code",
   "execution_count": 14,
   "id": "637999be-ed23-4837-9ae6-040ac207170a",
   "metadata": {
    "tags": []
   },
   "outputs": [],
   "source": [
    "smd = md[['ISBN','Book-Title', 'Book-Author', 'Publisher']]"
   ]
  },
  {
   "cell_type": "code",
   "execution_count": 15,
   "id": "ef3845d3-528e-4a5d-8953-b4de7b591627",
   "metadata": {
    "tags": []
   },
   "outputs": [],
   "source": [
    "author_counts= smd['Book-Author'].value_counts().to_dict()\n",
    "smd['author_counts'] = smd['Book-Author'].map(author_counts)\n",
    "smd = smd.drop_duplicates()\n",
    "m = smd['author_counts'].quantile(0.95)"
   ]
  },
  {
   "cell_type": "code",
   "execution_count": 16,
   "id": "5e6fa2d3-290c-4482-85d3-ca5119e10147",
   "metadata": {
    "tags": []
   },
   "outputs": [],
   "source": [
    "smd = smd[smd['author_counts'] > m]"
   ]
  },
  {
   "cell_type": "code",
   "execution_count": 17,
   "id": "01f1ee32-2072-4ecc-8135-4c85a39562d6",
   "metadata": {
    "tags": []
   },
   "outputs": [],
   "source": [
    "count = CountVectorizer(analyzer='word', ngram_range=(1,2),\n",
    "                     min_df=0, stop_words='english')\n",
    "count_matrix = count.fit_transform(smd['Book-Title'])"
   ]
  },
  {
   "cell_type": "code",
   "execution_count": 18,
   "id": "99680733-768d-486f-b9c7-0873e82ed311",
   "metadata": {
    "tags": []
   },
   "outputs": [
    {
     "data": {
      "text/plain": [
       "(13425, 25364)"
      ]
     },
     "execution_count": 18,
     "metadata": {},
     "output_type": "execute_result"
    }
   ],
   "source": [
    "count_matrix.shape"
   ]
  },
  {
   "cell_type": "code",
   "execution_count": 19,
   "id": "8afce20c-f47d-49bb-ada6-b6d9ae3fb8a6",
   "metadata": {
    "tags": []
   },
   "outputs": [
    {
     "name": "stdout",
     "output_type": "stream",
     "text": [
      "CPU times: user 423 ms, sys: 699 ms, total: 1.12 s\n",
      "Wall time: 1.14 s\n"
     ]
    }
   ],
   "source": [
    "%%time\n",
    "cosine_sim = cosine_similarity(count_matrix, count_matrix)"
   ]
  },
  {
   "cell_type": "code",
   "execution_count": 34,
   "id": "d6820afb-6fe3-4c0b-835b-48f0b64b5e0a",
   "metadata": {
    "tags": []
   },
   "outputs": [],
   "source": [
    "smd = smd.reset_index(drop=True)\n",
    "titles = smd['Book-Title']\n",
    "indices = pd.Series(smd.index, index=smd['Book-Title'])"
   ]
  },
  {
   "cell_type": "code",
   "execution_count": 45,
   "id": "a719e702-7f77-40af-b564-2447a106043d",
   "metadata": {
    "tags": []
   },
   "outputs": [],
   "source": [
    "smd = smd.set_index('Book-Title')"
   ]
  },
  {
   "cell_type": "code",
   "execution_count": 58,
   "id": "23892c6a-707d-4331-bfec-8dc3633c373d",
   "metadata": {
    "tags": []
   },
   "outputs": [
    {
     "data": {
      "text/html": [
       "<div>\n",
       "<style scoped>\n",
       "    .dataframe tbody tr th:only-of-type {\n",
       "        vertical-align: middle;\n",
       "    }\n",
       "\n",
       "    .dataframe tbody tr th {\n",
       "        vertical-align: top;\n",
       "    }\n",
       "\n",
       "    .dataframe thead th {\n",
       "        text-align: right;\n",
       "    }\n",
       "</style>\n",
       "<table border=\"1\" class=\"dataframe\">\n",
       "  <thead>\n",
       "    <tr style=\"text-align: right;\">\n",
       "      <th></th>\n",
       "      <th>ISBN</th>\n",
       "      <th>Book-Author</th>\n",
       "      <th>Publisher</th>\n",
       "      <th>author_counts</th>\n",
       "    </tr>\n",
       "    <tr>\n",
       "      <th>Book-Title</th>\n",
       "      <th></th>\n",
       "      <th></th>\n",
       "      <th></th>\n",
       "      <th></th>\n",
       "    </tr>\n",
       "  </thead>\n",
       "  <tbody>\n",
       "    <tr>\n",
       "      <th>The Kitchen God's Wife</th>\n",
       "      <td>5</td>\n",
       "      <td>Amy Tan</td>\n",
       "      <td>Putnam Pub Group</td>\n",
       "      <td>1769.0</td>\n",
       "    </tr>\n",
       "    <tr>\n",
       "      <th>PLEADING GUILTY</th>\n",
       "      <td>7</td>\n",
       "      <td>Scott Turow</td>\n",
       "      <td>Audioworks</td>\n",
       "      <td>1013.0</td>\n",
       "    </tr>\n",
       "    <tr>\n",
       "      <th>A Second Chicken Soup for the Woman's Soul (Chicken Soup for the Soul Series)</th>\n",
       "      <td>14</td>\n",
       "      <td>Jack Canfield</td>\n",
       "      <td>Health Communications</td>\n",
       "      <td>1832.0</td>\n",
       "    </tr>\n",
       "    <tr>\n",
       "      <th>The Testament</th>\n",
       "      <td>18</td>\n",
       "      <td>John Grisham</td>\n",
       "      <td>Dell</td>\n",
       "      <td>6010.0</td>\n",
       "    </tr>\n",
       "    <tr>\n",
       "      <th>Beloved (Plume Contemporary Fiction)</th>\n",
       "      <td>19</td>\n",
       "      <td>Toni Morrison</td>\n",
       "      <td>Plume</td>\n",
       "      <td>1021.0</td>\n",
       "    </tr>\n",
       "  </tbody>\n",
       "</table>\n",
       "</div>"
      ],
      "text/plain": [
       "                                                    ISBN    Book-Author   \n",
       "Book-Title                                                                \n",
       "The Kitchen God's Wife                                 5        Amy Tan  \\\n",
       "PLEADING GUILTY                                        7    Scott Turow   \n",
       "A Second Chicken Soup for the Woman's Soul (Chi...    14  Jack Canfield   \n",
       "The Testament                                         18   John Grisham   \n",
       "Beloved (Plume Contemporary Fiction)                  19  Toni Morrison   \n",
       "\n",
       "                                                                Publisher   \n",
       "Book-Title                                                                  \n",
       "The Kitchen God's Wife                                   Putnam Pub Group  \\\n",
       "PLEADING GUILTY                                                Audioworks   \n",
       "A Second Chicken Soup for the Woman's Soul (Chi...  Health Communications   \n",
       "The Testament                                                        Dell   \n",
       "Beloved (Plume Contemporary Fiction)                                Plume   \n",
       "\n",
       "                                                    author_counts  \n",
       "Book-Title                                                         \n",
       "The Kitchen God's Wife                                     1769.0  \n",
       "PLEADING GUILTY                                            1013.0  \n",
       "A Second Chicken Soup for the Woman's Soul (Chi...         1832.0  \n",
       "The Testament                                              6010.0  \n",
       "Beloved (Plume Contemporary Fiction)                       1021.0  "
      ]
     },
     "execution_count": 58,
     "metadata": {},
     "output_type": "execute_result"
    }
   ],
   "source": [
    "smd.head()"
   ]
  },
  {
   "cell_type": "code",
   "execution_count": 102,
   "id": "46948d6b-05f6-4bda-9b9f-89822ad8bb07",
   "metadata": {
    "tags": []
   },
   "outputs": [],
   "source": [
    "def recommend(user_id, title):\n",
    "    idx = indices[title]\n",
    "    isbn = smd.loc[title]['ISBN']\n",
    "    \n",
    "    sim_scores = list(enumerate(cosine_sim[idx]))\n",
    "\n",
    "    sim_scores = sorted(sim_scores, key=lambda x: x[1].any(), reverse=True)\n",
    "    sim_scores = sim_scores[1:26]\n",
    "    title_indices = [i[0] for i in sim_scores]\n",
    "    \n",
    "    books = smd.iloc[title_indices][['ISBN','Book-Author', 'Publisher']]\n",
    "    books['est'] = books['ISBN'].apply(lambda x: svd.predict(user_id, x).est)\n",
    "    books = books.sort_values('est', ascending=False)\n",
    "    return books.reset_index().head(10)"
   ]
  },
  {
   "cell_type": "code",
   "execution_count": 103,
   "id": "b01ffe59-d09c-4583-9d08-337c0684c03b",
   "metadata": {
    "tags": []
   },
   "outputs": [
    {
     "data": {
      "text/html": [
       "<div>\n",
       "<style scoped>\n",
       "    .dataframe tbody tr th:only-of-type {\n",
       "        vertical-align: middle;\n",
       "    }\n",
       "\n",
       "    .dataframe tbody tr th {\n",
       "        vertical-align: top;\n",
       "    }\n",
       "\n",
       "    .dataframe thead th {\n",
       "        text-align: right;\n",
       "    }\n",
       "</style>\n",
       "<table border=\"1\" class=\"dataframe\">\n",
       "  <thead>\n",
       "    <tr style=\"text-align: right;\">\n",
       "      <th></th>\n",
       "      <th>Book-Title</th>\n",
       "      <th>ISBN</th>\n",
       "      <th>Book-Author</th>\n",
       "      <th>Publisher</th>\n",
       "      <th>est</th>\n",
       "    </tr>\n",
       "  </thead>\n",
       "  <tbody>\n",
       "    <tr>\n",
       "      <th>0</th>\n",
       "      <td>Hearts In Atlantis : New Fiction</td>\n",
       "      <td>3780</td>\n",
       "      <td>Stephen King</td>\n",
       "      <td>Scribner</td>\n",
       "      <td>2.86695</td>\n",
       "    </tr>\n",
       "    <tr>\n",
       "      <th>1</th>\n",
       "      <td>Beloved</td>\n",
       "      <td>29445</td>\n",
       "      <td>Toni Morrison</td>\n",
       "      <td>Ediciones B</td>\n",
       "      <td>2.86695</td>\n",
       "    </tr>\n",
       "    <tr>\n",
       "      <th>2</th>\n",
       "      <td>Sword and Sorceress X: An Anthology of Heroic ...</td>\n",
       "      <td>46856</td>\n",
       "      <td>Marion Zimmer Bradley</td>\n",
       "      <td>New Amer Library</td>\n",
       "      <td>2.86695</td>\n",
       "    </tr>\n",
       "    <tr>\n",
       "      <th>3</th>\n",
       "      <td>100 Great Science Fiction Short Short Stories</td>\n",
       "      <td>46321</td>\n",
       "      <td>Isaac Asimov</td>\n",
       "      <td>Avon Books</td>\n",
       "      <td>2.86695</td>\n",
       "    </tr>\n",
       "    <tr>\n",
       "      <th>4</th>\n",
       "      <td>Gold : The Final Science Fiction Collection (T...</td>\n",
       "      <td>45607</td>\n",
       "      <td>Isaac Asimov</td>\n",
       "      <td>Eos</td>\n",
       "      <td>2.86695</td>\n",
       "    </tr>\n",
       "    <tr>\n",
       "      <th>5</th>\n",
       "      <td>Beloved</td>\n",
       "      <td>41563</td>\n",
       "      <td>Toni Morrison</td>\n",
       "      <td>Collectible First Editions</td>\n",
       "      <td>2.86695</td>\n",
       "    </tr>\n",
       "    <tr>\n",
       "      <th>6</th>\n",
       "      <td>Jazz (Plume Contemporary Fiction)</td>\n",
       "      <td>41333</td>\n",
       "      <td>Toni Morrison</td>\n",
       "      <td>Plume Books</td>\n",
       "      <td>2.86695</td>\n",
       "    </tr>\n",
       "    <tr>\n",
       "      <th>7</th>\n",
       "      <td>How to Write Science Fiction &amp;amp; Fantasy</td>\n",
       "      <td>39974</td>\n",
       "      <td>Orson Scott Card</td>\n",
       "      <td>Writer's Digest Books</td>\n",
       "      <td>2.86695</td>\n",
       "    </tr>\n",
       "    <tr>\n",
       "      <th>8</th>\n",
       "      <td>Characters and Viewpoint (Elements of Fiction ...</td>\n",
       "      <td>39967</td>\n",
       "      <td>Orson Scott Card</td>\n",
       "      <td>Writer's Digest Books</td>\n",
       "      <td>2.86695</td>\n",
       "    </tr>\n",
       "    <tr>\n",
       "      <th>9</th>\n",
       "      <td>Hard Times: An Authoritative Text, Backgrounds...</td>\n",
       "      <td>36725</td>\n",
       "      <td>Charles Dickens</td>\n",
       "      <td>W W Norton &amp;amp; Co Inc</td>\n",
       "      <td>2.86695</td>\n",
       "    </tr>\n",
       "  </tbody>\n",
       "</table>\n",
       "</div>"
      ],
      "text/plain": [
       "                                          Book-Title   ISBN   \n",
       "0                   Hearts In Atlantis : New Fiction   3780  \\\n",
       "1                                            Beloved  29445   \n",
       "2  Sword and Sorceress X: An Anthology of Heroic ...  46856   \n",
       "3      100 Great Science Fiction Short Short Stories  46321   \n",
       "4  Gold : The Final Science Fiction Collection (T...  45607   \n",
       "5                                            Beloved  41563   \n",
       "6                  Jazz (Plume Contemporary Fiction)  41333   \n",
       "7         How to Write Science Fiction &amp; Fantasy  39974   \n",
       "8  Characters and Viewpoint (Elements of Fiction ...  39967   \n",
       "9  Hard Times: An Authoritative Text, Backgrounds...  36725   \n",
       "\n",
       "             Book-Author                   Publisher      est  \n",
       "0           Stephen King                    Scribner  2.86695  \n",
       "1          Toni Morrison                 Ediciones B  2.86695  \n",
       "2  Marion Zimmer Bradley            New Amer Library  2.86695  \n",
       "3           Isaac Asimov                  Avon Books  2.86695  \n",
       "4           Isaac Asimov                         Eos  2.86695  \n",
       "5          Toni Morrison  Collectible First Editions  2.86695  \n",
       "6          Toni Morrison                 Plume Books  2.86695  \n",
       "7       Orson Scott Card       Writer's Digest Books  2.86695  \n",
       "8       Orson Scott Card       Writer's Digest Books  2.86695  \n",
       "9        Charles Dickens     W W Norton &amp; Co Inc  2.86695  "
      ]
     },
     "execution_count": 103,
     "metadata": {},
     "output_type": "execute_result"
    }
   ],
   "source": [
    "recommend(1, 'Beloved (Plume Contemporary Fiction)')"
   ]
  },
  {
   "cell_type": "code",
   "execution_count": 104,
   "id": "ddcdb0bd-0ec7-4a3d-9d59-c1b0a0e789d0",
   "metadata": {
    "tags": []
   },
   "outputs": [
    {
     "data": {
      "text/html": [
       "<div>\n",
       "<style scoped>\n",
       "    .dataframe tbody tr th:only-of-type {\n",
       "        vertical-align: middle;\n",
       "    }\n",
       "\n",
       "    .dataframe tbody tr th {\n",
       "        vertical-align: top;\n",
       "    }\n",
       "\n",
       "    .dataframe thead th {\n",
       "        text-align: right;\n",
       "    }\n",
       "</style>\n",
       "<table border=\"1\" class=\"dataframe\">\n",
       "  <thead>\n",
       "    <tr style=\"text-align: right;\">\n",
       "      <th></th>\n",
       "      <th>Book-Title</th>\n",
       "      <th>ISBN</th>\n",
       "      <th>Book-Author</th>\n",
       "      <th>Publisher</th>\n",
       "      <th>est</th>\n",
       "    </tr>\n",
       "  </thead>\n",
       "  <tbody>\n",
       "    <tr>\n",
       "      <th>0</th>\n",
       "      <td>Guilty as Sin</td>\n",
       "      <td>595</td>\n",
       "      <td>TAMI HOAG</td>\n",
       "      <td>Bantam</td>\n",
       "      <td>2.86695</td>\n",
       "    </tr>\n",
       "    <tr>\n",
       "      <th>1</th>\n",
       "      <td>A Second Chicken Soup for the Woman's Soul (Ch...</td>\n",
       "      <td>14</td>\n",
       "      <td>Jack Canfield</td>\n",
       "      <td>Health Communications</td>\n",
       "      <td>2.86695</td>\n",
       "    </tr>\n",
       "    <tr>\n",
       "      <th>2</th>\n",
       "      <td>Isle of Dogs</td>\n",
       "      <td>47</td>\n",
       "      <td>Patricia Cornwell</td>\n",
       "      <td>Berkley Publishing Group</td>\n",
       "      <td>2.86695</td>\n",
       "    </tr>\n",
       "    <tr>\n",
       "      <th>3</th>\n",
       "      <td>I'll Be Seeing You</td>\n",
       "      <td>45</td>\n",
       "      <td>Mary Higgins Clark</td>\n",
       "      <td>Pocket</td>\n",
       "      <td>2.86695</td>\n",
       "    </tr>\n",
       "    <tr>\n",
       "      <th>4</th>\n",
       "      <td>Icebound</td>\n",
       "      <td>44</td>\n",
       "      <td>Dean R. Koontz</td>\n",
       "      <td>Bantam Books</td>\n",
       "      <td>2.86695</td>\n",
       "    </tr>\n",
       "    <tr>\n",
       "      <th>5</th>\n",
       "      <td>Pride and Prejudice</td>\n",
       "      <td>41</td>\n",
       "      <td>Jane Austen</td>\n",
       "      <td>Bantam</td>\n",
       "      <td>2.86695</td>\n",
       "    </tr>\n",
       "    <tr>\n",
       "      <th>6</th>\n",
       "      <td>Pigs in Heaven</td>\n",
       "      <td>39</td>\n",
       "      <td>Barbara Kingsolver</td>\n",
       "      <td>Harpercollins</td>\n",
       "      <td>2.86695</td>\n",
       "    </tr>\n",
       "    <tr>\n",
       "      <th>7</th>\n",
       "      <td>Timeline</td>\n",
       "      <td>28</td>\n",
       "      <td>MICHAEL CRICHTON</td>\n",
       "      <td>Ballantine Books</td>\n",
       "      <td>2.86695</td>\n",
       "    </tr>\n",
       "    <tr>\n",
       "      <th>8</th>\n",
       "      <td>Airframe</td>\n",
       "      <td>27</td>\n",
       "      <td>Michael Crichton</td>\n",
       "      <td>Ballantine Books</td>\n",
       "      <td>2.86695</td>\n",
       "    </tr>\n",
       "    <tr>\n",
       "      <th>9</th>\n",
       "      <td>Wild Animus</td>\n",
       "      <td>26</td>\n",
       "      <td>Rich Shapero</td>\n",
       "      <td>Too Far</td>\n",
       "      <td>2.86695</td>\n",
       "    </tr>\n",
       "  </tbody>\n",
       "</table>\n",
       "</div>"
      ],
      "text/plain": [
       "                                          Book-Title  ISBN   \n",
       "0                                      Guilty as Sin   595  \\\n",
       "1  A Second Chicken Soup for the Woman's Soul (Ch...    14   \n",
       "2                                       Isle of Dogs    47   \n",
       "3                                 I'll Be Seeing You    45   \n",
       "4                                           Icebound    44   \n",
       "5                                Pride and Prejudice    41   \n",
       "6                                     Pigs in Heaven    39   \n",
       "7                                           Timeline    28   \n",
       "8                                           Airframe    27   \n",
       "9                                        Wild Animus    26   \n",
       "\n",
       "          Book-Author                 Publisher      est  \n",
       "0           TAMI HOAG                    Bantam  2.86695  \n",
       "1       Jack Canfield     Health Communications  2.86695  \n",
       "2   Patricia Cornwell  Berkley Publishing Group  2.86695  \n",
       "3  Mary Higgins Clark                    Pocket  2.86695  \n",
       "4      Dean R. Koontz              Bantam Books  2.86695  \n",
       "5         Jane Austen                    Bantam  2.86695  \n",
       "6  Barbara Kingsolver             Harpercollins  2.86695  \n",
       "7    MICHAEL CRICHTON          Ballantine Books  2.86695  \n",
       "8    Michael Crichton          Ballantine Books  2.86695  \n",
       "9        Rich Shapero                   Too Far  2.86695  "
      ]
     },
     "execution_count": 104,
     "metadata": {},
     "output_type": "execute_result"
    }
   ],
   "source": [
    "recommend(1, 'PLEADING GUILTY')"
   ]
  }
 ],
 "metadata": {
  "kernelspec": {
   "display_name": "Python 3 (ipykernel)",
   "language": "python",
   "name": "python3"
  },
  "language_info": {
   "codemirror_mode": {
    "name": "ipython",
    "version": 3
   },
   "file_extension": ".py",
   "mimetype": "text/x-python",
   "name": "python",
   "nbconvert_exporter": "python",
   "pygments_lexer": "ipython3",
   "version": "3.10.12"
  }
 },
 "nbformat": 4,
 "nbformat_minor": 5
}
